{
 "cells": [
  {
   "cell_type": "code",
   "execution_count": 1,
   "metadata": {},
   "outputs": [],
   "source": [
    "import requests\n",
    "from bs4 import BeautifulSoup\n",
    "import selenium\n",
    "from selenium import webdriver\n",
    "from selenium.webdriver.common.action_chains import ActionChains\n",
    "from selenium.webdriver.common.by import By\n",
    "from selenium.webdriver.support.ui import WebDriverWait\n",
    "from selenium.webdriver.support import expected_conditions as ec"
   ]
  },
  {
   "cell_type": "code",
   "execution_count": 5,
   "metadata": {
    "jupyter": {
     "source_hidden": true
    }
   },
   "outputs": [],
   "source": [
    "url = \"https://login.churchofjesuschrist.org/?service=200&goto=https%3A%2F%2Fwww.churchofjesuschrist.org%2F%3Flang%3Deng\"\n",
    "response = requests.get(url)\n",
    "soup = BeautifulSoup(response.text, \"lxml\")\n",
    "\n",
    "user = \"callanmix\"\n",
    "password = \"Swaql0ve4eva\"\n",
    "\n",
    "driver = webdriver.Chrome(\"C:/Users/calla/Downloads/chromedriver_win32/chromedriver.exe\")\n",
    "driver.implicitly_wait(30)\n",
    "driver.maximize_window()\n",
    "wait = WebDriverWait(driver, 10)\n",
    "\n",
    "# Navigate to the application home page\n",
    "driver.get(url)"
   ]
  },
  {
   "cell_type": "code",
   "execution_count": 3,
   "metadata": {},
   "outputs": [],
   "source": [
    "# get the search textbox\n",
    "user_field = driver.find_element_by_xpath('//*[@id=\"username\"]')\n",
    "user_field.send_keys(user)\n",
    "\n",
    "# get the search textbox\n",
    "pass_field = driver.find_element_by_xpath('//*[@id=\"password\"]')\n",
    "pass_field.send_keys(password)\n",
    "\n",
    "# get the search textbox\n",
    "sign_button = driver.find_element_by_xpath('//*[@id=\"sign-in\"]')\n",
    "sign_button.click()"
   ]
  },
  {
   "cell_type": "code",
   "execution_count": 4,
   "metadata": {},
   "outputs": [],
   "source": [
    "ward = wait.until(ec.element_to_be_clickable((By.XPATH, '//*[@id=\"prefBoxLinks\"]/li[2]')))\n",
    "ward.click()\n",
    "ward = driver.find_element_by_xpath('//*[@id=\"prefBoxLinks\"]/li[2]/div/div[2]/div[2]/ul/li[1]/a')\n",
    "ward.click()"
   ]
  },
  {
   "cell_type": "code",
   "execution_count": 6,
   "metadata": {},
   "outputs": [],
   "source": [
    "driver.close()"
   ]
  },
  {
   "cell_type": "code",
   "execution_count": null,
   "metadata": {},
   "outputs": [],
   "source": []
  }
 ],
 "metadata": {
  "kernelspec": {
   "display_name": "Python 3",
   "language": "python",
   "name": "python3"
  },
  "language_info": {
   "codemirror_mode": {
    "name": "ipython",
    "version": 3
   },
   "file_extension": ".py",
   "mimetype": "text/x-python",
   "name": "python",
   "nbconvert_exporter": "python",
   "pygments_lexer": "ipython3",
   "version": "3.7.6"
  }
 },
 "nbformat": 4,
 "nbformat_minor": 4
}
