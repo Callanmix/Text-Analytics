{
 "cells": [
  {
   "cell_type": "code",
   "execution_count": 1,
   "metadata": {},
   "outputs": [],
   "source": [
    "import nltk"
   ]
  },
  {
   "cell_type": "code",
   "execution_count": 7,
   "metadata": {},
   "outputs": [],
   "source": [
    "text = \"\"\"The Buddha, the Godhead, resides quite as comfortably in the circuits of a digital\n",
    "computer or the gears of a cycle transmission as he does at the top of a mountain\n",
    "or in the petals of a flower. To think otherwise is to demean the Buddha...which is\n",
    "to demean oneself.\"\"\""
   ]
  },
  {
   "cell_type": "code",
   "execution_count": 12,
   "metadata": {},
   "outputs": [
    {
     "name": "stdout",
     "output_type": "stream",
     "text": [
      "[('The', 'DT'), ('Buddha', 'NNP'), (',', ','), ('the', 'DT'), ('Godhead', 'NNP'), (',', ','), ('resides', 'VBZ'), ('quite', 'RB'), ('as', 'IN'), ('comfortably', 'RB'), ('in', 'IN'), ('the', 'DT'), ('circuits', 'NNS'), ('of', 'IN'), ('a', 'DT'), ('digital', 'JJ'), ('computer', 'NN'), ('or', 'CC'), ('the', 'DT'), ('gears', 'NNS'), ('of', 'IN'), ('a', 'DT'), ('cycle', 'NN'), ('transmission', 'NN'), ('as', 'IN'), ('he', 'PRP'), ('does', 'VBZ'), ('at', 'IN'), ('the', 'DT'), ('top', 'NN'), ('of', 'IN'), ('a', 'DT'), ('mountain', 'NN'), ('or', 'CC'), ('in', 'IN'), ('the', 'DT'), ('petals', 'NNS'), ('of', 'IN'), ('a', 'DT'), ('flower', 'NN'), ('.', '.'), ('To', 'TO'), ('think', 'VB'), ('otherwise', 'RB'), ('is', 'VBZ'), ('to', 'TO'), ('demean', 'VB'), ('the', 'DT'), ('Buddha', 'NNP'), ('...', ':'), ('which', 'WDT'), ('is', 'VBZ'), ('to', 'TO'), ('demean', 'VB'), ('oneself', 'PRP'), ('.', '.')]\n"
     ]
    }
   ],
   "source": [
    "# Used when tokenizing words\n",
    "sentence_re = r'''(?x)      # set flag to allow verbose regexps\n",
    "      ([A-Z])(\\.[A-Z])+\\.?  # abbreviations, e.g. U.S.A.\n",
    "    | \\w+(-\\w+)*            # words with optional internal hyphens\n",
    "    | \\$?\\d+(\\.\\d+)?%?      # currency and percentages, e.g. $12.40, 82%\n",
    "    | \\.\\.\\.                # ellipsis\n",
    "    | [][.,;\"'?():-_`]      # these are separate tokens\n",
    "'''\n",
    "\n",
    "lemmatizer = nltk.WordNetLemmatizer()\n",
    "stemmer = nltk.stem.porter.PorterStemmer()\n",
    "\n",
    "#Taken from Su Nam Kim Paper...\n",
    "grammar = r\"\"\"\n",
    "    NBAR:\n",
    "        {<NN.*|JJ>*<NN.*>}  # Nouns and Adjectives, terminated with Nouns\n",
    "        \n",
    "    NP:\n",
    "        {<NBAR>}\n",
    "        {<NBAR><IN><NBAR>}  # Above, connected with in/of/etc...\n",
    "\"\"\"\n",
    "chunker = nltk.RegexpParser(grammar)\n",
    "toks = nltk.word_tokenize(text)\n",
    "postoks = nltk.tag.pos_tag(toks)\n",
    "\n",
    "print(postoks)\n",
    "\n",
    "tree = chunker.parse(postoks)\n",
    "\n",
    "from nltk.corpus import stopwords\n",
    "stopwords = stopwords.words('english')"
   ]
  },
  {
   "cell_type": "code",
   "execution_count": 19,
   "metadata": {},
   "outputs": [
    {
     "name": "stdout",
     "output_type": "stream",
     "text": [
      "buddha\n",
      "\n",
      "godhead\n",
      "\n",
      "circuit\n",
      "\n",
      "digit\n",
      "comput\n",
      "\n",
      "gear\n",
      "\n",
      "cycl\n",
      "transmiss\n",
      "\n",
      "top\n",
      "\n",
      "mountain\n",
      "\n",
      "petal\n",
      "\n",
      "flower\n",
      "\n",
      "buddha\n",
      "\n"
     ]
    }
   ],
   "source": [
    "def leaves(tree):\n",
    "    \"\"\"Finds NP (nounphrase) leaf nodes of a chunk tree.\"\"\"\n",
    "    for subtree in tree.subtrees(filter = lambda t: t.label() =='NP'):\n",
    "        yield subtree.leaves()\n",
    "\n",
    "def normalise(word):\n",
    "    \"\"\"Normalises words to lowercase and stems and lemmatizes it.\"\"\"\n",
    "    word = word.lower()\n",
    "    word = stemmer.stem(word)\n",
    "    word = lemmatizer.lemmatize(word)\n",
    "    return word\n",
    "\n",
    "def acceptable_word(word):\n",
    "    \"\"\"Checks conditions for acceptable word: length, stopword.\"\"\"\n",
    "    accepted = bool(2 <= len(word) <= 40\n",
    "        and word.lower() not in stopwords)\n",
    "    return accepted\n",
    "\n",
    "\n",
    "def get_terms(tree):\n",
    "    for leaf in leaves(tree):\n",
    "        term = [ normalise(w) for w,t in leaf if acceptable_word(w) ]\n",
    "        yield term\n",
    "\n",
    "terms = get_terms(tree)\n",
    "\n",
    "for term in terms:\n",
    "    for word in term:\n",
    "        print(word)\n",
    "    print()"
   ]
  },
  {
   "cell_type": "code",
   "execution_count": null,
   "metadata": {},
   "outputs": [],
   "source": []
  }
 ],
 "metadata": {
  "kernelspec": {
   "display_name": "Python 3",
   "language": "python",
   "name": "python3"
  },
  "language_info": {
   "codemirror_mode": {
    "name": "ipython",
    "version": 3
   },
   "file_extension": ".py",
   "mimetype": "text/x-python",
   "name": "python",
   "nbconvert_exporter": "python",
   "pygments_lexer": "ipython3",
   "version": "3.7.6"
  }
 },
 "nbformat": 4,
 "nbformat_minor": 4
}
